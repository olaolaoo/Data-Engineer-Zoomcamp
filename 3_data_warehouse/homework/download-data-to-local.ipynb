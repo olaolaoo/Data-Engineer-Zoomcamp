{
 "cells": [
  {
   "cell_type": "markdown",
   "id": "fdffa95d-3566-4f45-bbf3-a0c3dcb72906",
   "metadata": {},
   "source": [
    "# set up library\n",
    "This file was tested with MacOS using Conda for Python management.\n",
    "\n",
    "Make sure that your Python env has `pandas` and `sqlalchemy` installed. I also had to install `psycopg2` manually."
   ]
  },
  {
   "cell_type": "code",
   "execution_count": 1,
   "id": "ddf27d23-27b4-41d6-a057-9d7cafed35b4",
   "metadata": {},
   "outputs": [],
   "source": [
    "import requests\n",
    "import os"
   ]
  },
  {
   "cell_type": "markdown",
   "id": "b211cd89-4644-4805-a1db-eeaa984de791",
   "metadata": {},
   "source": [
    "https://d37ci6vzurychx.cloudfront.net/trip-data/green_tripdata_2022-01.parquet"
   ]
  },
  {
   "cell_type": "code",
   "execution_count": 2,
   "id": "8b06a8d5-0fa1-40c2-aa23-53fdb7145925",
   "metadata": {},
   "outputs": [],
   "source": [
    "# 定义数据链接的基础URL和文件名格式\n",
    "base_url = \"https://d37ci6vzurychx.cloudfront.net/trip-data/green_tripdata_2022-\"\n",
    "file_format = \".parquet\""
   ]
  },
  {
   "cell_type": "code",
   "execution_count": 5,
   "id": "44d51cc1-c2c0-42ea-955f-7d8897d7816f",
   "metadata": {},
   "outputs": [],
   "source": [
    "# 指定本地保存数据文件的目录\n",
    "save_directory = \"/Users/ola/Downloads/green_tripdata_2022/\""
   ]
  },
  {
   "cell_type": "code",
   "execution_count": 6,
   "id": "534b03d0-ddb1-4988-96e4-55e2344c5d7c",
   "metadata": {},
   "outputs": [],
   "source": [
    "# 创建保存数据文件的目录（如果不存在）\n",
    "if not os.path.exists(save_directory):\n",
    "    os.makedirs(save_directory)"
   ]
  },
  {
   "cell_type": "code",
   "execution_count": 7,
   "id": "e98ad6d1-fd55-420c-b61d-21cf8fa346c4",
   "metadata": {},
   "outputs": [
    {
     "name": "stdout",
     "output_type": "stream",
     "text": [
      "Successfully downloaded: green_tripdata_2022-01.parquet\n",
      "Successfully downloaded: green_tripdata_2022-02.parquet\n",
      "Successfully downloaded: green_tripdata_2022-03.parquet\n",
      "Successfully downloaded: green_tripdata_2022-04.parquet\n",
      "Successfully downloaded: green_tripdata_2022-05.parquet\n",
      "Successfully downloaded: green_tripdata_2022-06.parquet\n",
      "Successfully downloaded: green_tripdata_2022-07.parquet\n",
      "Successfully downloaded: green_tripdata_2022-08.parquet\n",
      "Successfully downloaded: green_tripdata_2022-09.parquet\n",
      "Successfully downloaded: green_tripdata_2022-10.parquet\n",
      "Successfully downloaded: green_tripdata_2022-11.parquet\n",
      "Successfully downloaded: green_tripdata_2022-12.parquet\n"
     ]
    }
   ],
   "source": [
    "# 循环下载每个月份的数据文件\n",
    "for month in range(1, 13):\n",
    "    # 根据月份构建完整的文件链接\n",
    "    file_url = f\"{base_url}{month:02d}{file_format}\"\n",
    "    # {month:02d}使用了Python中的字符串格式化，确保月份以两位数字形式表示，比如1表示为'01'\n",
    "    file_name = f\"green_tripdata_2022-{month:02d}{file_format}\"\n",
    "     # 构建保存文件的路径，使用了os.path.join()函数来确保路径的正确拼接\n",
    "    save_path = os.path.join(save_directory, file_name)\n",
    "    \n",
    "    # 发送HTTP请求下载文件\n",
    "    response = requests.get(file_url)\n",
    "    \n",
    "    # 检查响应状态码，如果是200表示请求成功\n",
    "    if response.status_code == 200:\n",
    "        # 'wb'表示以二进制写模式打开文件，save_path是要保存文件的路径\n",
    "        with open(save_path, 'wb') as file:\n",
    "            # 这行代码将HTTP响应的内容写入到本地文件中\n",
    "            file.write(response.content)\n",
    "        print(f\"Successfully downloaded: {file_name}\")\n",
    "    else:\n",
    "        print(f\"Failed to download: {file_name}\")"
   ]
  }
 ],
 "metadata": {
  "kernelspec": {
   "display_name": "Python 3 (ipykernel)",
   "language": "python",
   "name": "python3"
  },
  "language_info": {
   "codemirror_mode": {
    "name": "ipython",
    "version": 3
   },
   "file_extension": ".py",
   "mimetype": "text/x-python",
   "name": "python",
   "nbconvert_exporter": "python",
   "pygments_lexer": "ipython3",
   "version": "3.9.13"
  }
 },
 "nbformat": 4,
 "nbformat_minor": 5
}
