{
 "cells": [
  {
   "cell_type": "code",
   "execution_count": 1,
   "id": "3307b886",
   "metadata": {},
   "outputs": [
    {
     "name": "stderr",
     "output_type": "stream",
     "text": [
      "24/02/28 15:21:22 WARN Utils: Your hostname, oladeMacBook-Pro.local resolves to a loopback address: 127.0.0.1; using 192.168.0.102 instead (on interface en0)\n",
      "24/02/28 15:21:22 WARN Utils: Set SPARK_LOCAL_IP if you need to bind to another address\n",
      "Setting default log level to \"WARN\".\n",
      "To adjust logging level use sc.setLogLevel(newLevel). For SparkR, use setLogLevel(newLevel).\n",
      "24/02/28 15:21:23 WARN NativeCodeLoader: Unable to load native-hadoop library for your platform... using builtin-java classes where applicable\n",
      "24/02/28 15:21:37 WARN GarbageCollectionMetrics: To enable non-built-in garbage collector(s) List(G1 Concurrent GC), users should configure it(them) to spark.eventLog.gcMetrics.youngGenerationGarbageCollectors or spark.eventLog.gcMetrics.oldGenerationGarbageCollectors\n"
     ]
    }
   ],
   "source": [
    "import pyspark\n",
    "from pyspark.sql import SparkSession\n",
    "\n",
    "spark = SparkSession.builder \\\n",
    "    .master(\"local[*]\") \\\n",
    "    .appName('test') \\\n",
    "    .getOrCreate()"
   ]
  },
  {
   "cell_type": "code",
   "execution_count": 2,
   "id": "1ee1eb1d",
   "metadata": {},
   "outputs": [
    {
     "name": "stderr",
     "output_type": "stream",
     "text": [
      "                                                                                \r"
     ]
    }
   ],
   "source": [
    "df_green = spark.read.parquet('data/pq/green/*/*')"
   ]
  },
  {
   "cell_type": "code",
   "execution_count": 4,
   "id": "649bb4da",
   "metadata": {},
   "outputs": [],
   "source": [
    "#Pandas DataFrame，没有 withColumnRenamed() 方法\n",
    "df_green = df_green \\\n",
    "    .withColumnRenamed('lpep_pickup_datetime', 'pickup_datetime') \\\n",
    "    .withColumnRenamed('lpep_dropoff_datetime', 'dropoff_datetime')"
   ]
  },
  {
   "cell_type": "code",
   "execution_count": 5,
   "id": "90cd6845",
   "metadata": {},
   "outputs": [],
   "source": [
    "df_yellow = spark.read.parquet('data/pq/yellow/*/*')"
   ]
  },
  {
   "cell_type": "code",
   "execution_count": 6,
   "id": "88822efd",
   "metadata": {},
   "outputs": [],
   "source": [
    "df_yellow = df_yellow \\\n",
    "    .withColumnRenamed('tpep_pickup_datetime', 'pickup_datetime') \\\n",
    "    .withColumnRenamed('tpep_dropoff_datetime', 'dropoff_datetime')"
   ]
  },
  {
   "cell_type": "markdown",
   "id": "365313a7-7eff-4f67-be15-63d38337f8fe",
   "metadata": {},
   "source": [
    "# 统一两个表的列顺序"
   ]
  },
  {
   "cell_type": "code",
   "execution_count": 16,
   "id": "2a01740d-a69d-418a-8315-a7df9b89217a",
   "metadata": {},
   "outputs": [],
   "source": [
    "common_colums1 = []\n",
    "\n",
    "#yellow_columns = set(df_yellow.columns)#yellow_columns格式是set{'DOLocationID'};df_green.columns格式是list['DOLocationID']\n",
    "\n",
    "for col in df_green.columns:\n",
    "    if col in df_yellow.columns:\n",
    "        common_colums1.append(col)"
   ]
  },
  {
   "cell_type": "code",
   "execution_count": 17,
   "id": "e33641a0-d10e-43f8-818b-42be4ac40c00",
   "metadata": {},
   "outputs": [
    {
     "data": {
      "text/plain": [
       "['VendorID',\n",
       " 'pickup_datetime',\n",
       " 'dropoff_datetime',\n",
       " 'store_and_fwd_flag',\n",
       " 'RatecodeID',\n",
       " 'PULocationID',\n",
       " 'DOLocationID',\n",
       " 'passenger_count',\n",
       " 'trip_distance',\n",
       " 'fare_amount',\n",
       " 'extra',\n",
       " 'mta_tax',\n",
       " 'tip_amount',\n",
       " 'tolls_amount',\n",
       " 'improvement_surcharge',\n",
       " 'total_amount',\n",
       " 'payment_type',\n",
       " 'congestion_surcharge']"
      ]
     },
     "execution_count": 17,
     "metadata": {},
     "output_type": "execute_result"
    }
   ],
   "source": [
    "common_colums1"
   ]
  },
  {
   "cell_type": "code",
   "execution_count": 21,
   "id": "bcc32c6b-bde7-4e7d-b83e-54defe5b187a",
   "metadata": {},
   "outputs": [
    {
     "name": "stdout",
     "output_type": "stream",
     "text": [
      "True\n"
     ]
    }
   ],
   "source": [
    "print(common_colums1==common_colums)"
   ]
  },
  {
   "cell_type": "code",
   "execution_count": 7,
   "id": "610167a2",
   "metadata": {},
   "outputs": [],
   "source": [
    "common_colums = []\n",
    "\n",
    "yellow_columns = set(df_yellow.columns)#yellow_columns格式是set{'DOLocationID'};df_green.columns格式是list['DOLocationID']\n",
    "\n",
    "for col in df_green.columns:\n",
    "    if col in yellow_columns:\n",
    "        common_colums.append(col)"
   ]
  },
  {
   "cell_type": "code",
   "execution_count": 8,
   "id": "839d773f",
   "metadata": {},
   "outputs": [],
   "source": [
    "from pyspark.sql import functions as F"
   ]
  },
  {
   "cell_type": "code",
   "execution_count": 9,
   "id": "2498810a",
   "metadata": {},
   "outputs": [],
   "source": [
    "df_green_sel = df_green \\\n",
    "    .select(common_colums) \\\n",
    "    .withColumn('service_type', F.lit('green'))"
   ]
  },
  {
   "cell_type": "code",
   "execution_count": 10,
   "id": "19032efc",
   "metadata": {},
   "outputs": [],
   "source": [
    "df_yellow_sel = df_yellow \\\n",
    "    .select(common_colums) \\\n",
    "    .withColumn('service_type', F.lit('yellow'))"
   ]
  },
  {
   "cell_type": "code",
   "execution_count": 11,
   "id": "f5b0f3d1",
   "metadata": {},
   "outputs": [],
   "source": [
    "df_trips_data = df_green_sel.unionAll(df_yellow_sel)"
   ]
  },
  {
   "cell_type": "code",
   "execution_count": 13,
   "id": "1bed8b33",
   "metadata": {},
   "outputs": [
    {
     "name": "stderr",
     "output_type": "stream",
     "text": [
      "[Stage 5:================================================>        (17 + 3) / 20]\r"
     ]
    },
    {
     "name": "stdout",
     "output_type": "stream",
     "text": [
      "+------------+--------+\n",
      "|service_type|   count|\n",
      "+------------+--------+\n",
      "|       green| 2304517|\n",
      "|      yellow|39649199|\n",
      "+------------+--------+\n",
      "\n"
     ]
    },
    {
     "name": "stderr",
     "output_type": "stream",
     "text": [
      "                                                                                \r"
     ]
    }
   ],
   "source": [
    "df_trips_data.groupBy('service_type').count().show()"
   ]
  },
  {
   "cell_type": "code",
   "execution_count": 14,
   "id": "28cc8fa3",
   "metadata": {},
   "outputs": [
    {
     "data": {
      "text/plain": [
       "['VendorID',\n",
       " 'pickup_datetime',\n",
       " 'dropoff_datetime',\n",
       " 'store_and_fwd_flag',\n",
       " 'RatecodeID',\n",
       " 'PULocationID',\n",
       " 'DOLocationID',\n",
       " 'passenger_count',\n",
       " 'trip_distance',\n",
       " 'fare_amount',\n",
       " 'extra',\n",
       " 'mta_tax',\n",
       " 'tip_amount',\n",
       " 'tolls_amount',\n",
       " 'improvement_surcharge',\n",
       " 'total_amount',\n",
       " 'payment_type',\n",
       " 'congestion_surcharge',\n",
       " 'service_type']"
      ]
     },
     "execution_count": 14,
     "metadata": {},
     "output_type": "execute_result"
    }
   ],
   "source": [
    "df_trips_data.columns"
   ]
  },
  {
   "cell_type": "code",
   "execution_count": 25,
   "id": "36e90cbc",
   "metadata": {},
   "outputs": [],
   "source": [
    "df_trips_data.createOrReplaceTempView('trips_data')"
   ]
  },
  {
   "cell_type": "code",
   "execution_count": 26,
   "id": "d0e01bf1",
   "metadata": {},
   "outputs": [
    {
     "name": "stderr",
     "output_type": "stream",
     "text": [
      "[Stage 17:============================================>           (16 + 4) / 20]\r"
     ]
    },
    {
     "name": "stdout",
     "output_type": "stream",
     "text": [
      "+------------+--------+\n",
      "|service_type|count(1)|\n",
      "+------------+--------+\n",
      "|       green| 2304517|\n",
      "|      yellow|39649199|\n",
      "+------------+--------+\n",
      "\n"
     ]
    },
    {
     "name": "stderr",
     "output_type": "stream",
     "text": [
      "                                                                                \r"
     ]
    }
   ],
   "source": [
    "spark.sql(\"\"\"\n",
    "SELECT\n",
    "    service_type,\n",
    "    count(1)\n",
    "FROM\n",
    "    trips_data\n",
    "GROUP BY \n",
    "    service_type\n",
    "\"\"\").show()"
   ]
  },
  {
   "cell_type": "code",
   "execution_count": 31,
   "id": "b2ee7038",
   "metadata": {},
   "outputs": [],
   "source": [
    "df_result = spark.sql(\"\"\"\n",
    "SELECT \n",
    "    -- Reveneue grouping \n",
    "    PULocationID AS revenue_zone,\n",
    "    date_trunc('month', pickup_datetime) AS revenue_month, \n",
    "    service_type, \n",
    "\n",
    "    -- Revenue calculation \n",
    "    SUM(fare_amount) AS revenue_monthly_fare,\n",
    "    SUM(extra) AS revenue_monthly_extra,\n",
    "    SUM(mta_tax) AS revenue_monthly_mta_tax,\n",
    "    SUM(tip_amount) AS revenue_monthly_tip_amount,\n",
    "    SUM(tolls_amount) AS revenue_monthly_tolls_amount,\n",
    "    SUM(improvement_surcharge) AS revenue_monthly_improvement_surcharge,\n",
    "    SUM(total_amount) AS revenue_monthly_total_amount,\n",
    "    SUM(congestion_surcharge) AS revenue_monthly_congestion_surcharge,\n",
    "\n",
    "    -- Additional calculations\n",
    "    AVG(passenger_count) AS avg_montly_passenger_count,\n",
    "    AVG(trip_distance) AS avg_montly_trip_distance\n",
    "FROM\n",
    "    trips_data\n",
    "GROUP BY\n",
    "    1, 2, 3\n",
    "\"\"\")"
   ]
  },
  {
   "cell_type": "code",
   "execution_count": 32,
   "id": "0ae01343-93b0-4416-9f72-3eed11131c99",
   "metadata": {},
   "outputs": [
    {
     "name": "stderr",
     "output_type": "stream",
     "text": [
      "[Stage 26:===============================================>        (17 + 3) / 20]\r"
     ]
    },
    {
     "name": "stdout",
     "output_type": "stream",
     "text": [
      "+------------+-------------------+------------+--------------------+---------------------+-----------------------+--------------------------+----------------------------+-------------------------------------+----------------------------+------------------------------------+--------------------------+------------------------+\n",
      "|revenue_zone|      revenue_month|service_type|revenue_monthly_fare|revenue_monthly_extra|revenue_monthly_mta_tax|revenue_monthly_tip_amount|revenue_monthly_tolls_amount|revenue_monthly_improvement_surcharge|revenue_monthly_total_amount|revenue_monthly_congestion_surcharge|avg_montly_passenger_count|avg_montly_trip_distance|\n",
      "+------------+-------------------+------------+--------------------+---------------------+-----------------------+--------------------------+----------------------------+-------------------------------------+----------------------------+------------------------------------+--------------------------+------------------------+\n",
      "|         252|2020-02-01 00:00:00|       green|   4542.540000000001|                289.5|                   22.0|                     16.52|           265.4500000000001|                    43.20000000000006|                     5181.16|                                 0.0|        1.1111111111111112|       7.692185430463576|\n",
      "|         206|2020-02-01 00:00:00|       green|              829.97|                 33.0|                    1.5|                     23.34|                      190.88|                                  4.5|                     1083.19|                                 0.0|                       1.0|      15.768666666666663|\n",
      "|         173|2020-01-01 00:00:00|       green|            15830.27|                862.0|                  377.0|                    262.91|           384.5300000000002|                    297.3000000000055|           18040.70999999979|                               30.25|        1.4243589743589744|       3.201485608170845|\n",
      "|          31|2020-01-01 00:00:00|       green|  2036.7800000000004|                104.5|                   28.5|                    133.47|           68.55999999999999|                   27.900000000000045|          2427.2099999999996|                                27.5|        1.1551724137931034|       5.635959595959594|\n",
      "|         126|2020-02-01 00:00:00|       green|             7159.77|                583.0|                   80.0|                     29.73|          234.44000000000005|                    97.49999999999972|           8191.340000000005|                                 0.0|        1.1764705882352942|         4.2802216066482|\n",
      "|         246|2020-02-01 00:00:00|       green|              505.92|                 38.5|                    0.0|                      6.32|          26.759999999999998|                    4.199999999999999|                       581.7|                                 0.0|                       2.0|      11.361428571428572|\n",
      "|          38|2020-01-01 00:00:00|       green|  12386.740000000013|                698.0|                   67.0|                       0.0|           281.5200000000001|                   116.69999999999925|          13549.959999999981|                                 0.0|        1.2823529411764707|        7.61892523364486|\n",
      "|         165|2020-01-01 00:00:00|       green|  24802.129999999976|               1549.0|                  189.5|        101.14999999999999|           495.9500000000004|                   268.80000000000445|           27427.27999999993|                                11.0|        1.1891891891891893|       4.462666025024065|\n",
      "|         265|2020-02-01 00:00:00|       green|  12431.599999999997|   359.09000000000003|                  118.0|        353.03000000000003|           461.3600000000001|                    98.69999999999966|          13827.279999999995|                                2.75|        1.5217391304347827|        8.64527472527472|\n",
      "|          92|2020-01-01 00:00:00|       green|   67252.83999999984|              2700.75|                 1326.0|        3052.7699999999986|           1289.559999999996|                   1034.9999999999345|           76792.72000000258|                              129.25|        1.1726539589442815|       4.553793490460165|\n",
      "|         215|2020-02-01 00:00:00|       green|   25575.92000000004|               1957.0|                  101.0|                     23.36|           708.0100000000004|                    238.2000000000007|          28619.789999999986|                                 5.5|        1.2751322751322751|       6.560034602076126|\n",
      "|           7|2020-01-01 00:00:00|       green|  169074.51999999958|              7929.25|                 7443.5|        12952.749999999944|          1746.7599999999884|                    4730.700000001408|          207287.27999996912|                             3448.25|        1.4415973377703828|      2.2922463269771827|\n",
      "|          40|2020-01-01 00:00:00|       green|   21433.21000000001|               880.75|                  778.5|         2839.890000000003|          329.47000000000014|                   491.10000000001287|          27650.519999999644|                              799.75|        1.2895077720207253|      2.9378884223155275|\n",
      "|         237|2020-01-01 00:00:00|       green|  3895.6099999999997|                248.5|                    7.5|                       0.0|          176.44000000000005|                   31.500000000000053|                     4359.55|                                 0.0|                       1.0|      10.208504672897197|\n",
      "|         114|2020-01-01 00:00:00|       green|  492.40999999999997|                 38.5|                    1.5|                       0.0|                       18.36|                    5.699999999999998|                      556.47|                                NULL|                      NULL|       6.400526315789474|\n",
      "|         230|2020-01-01 00:00:00|       green|  1797.4100000000008|                121.0|                    3.0|                       0.0|           97.92000000000002|                   16.200000000000017|          2035.5300000000002|                                 0.0|                       1.0|       7.692142857142856|\n",
      "|         113|2020-02-01 00:00:00|       green|   968.8999999999999|                 71.5|                    1.5|                       0.0|                       48.96|                    8.699999999999998|                     1099.56|                                 0.0|                       1.0|       8.582413793103449|\n",
      "|          40|2020-02-01 00:00:00|       green|  21840.030000000013|                896.5|                  831.0|                   3179.43|           397.8000000000002|                    517.8000000000081|            28638.2599999998|                              967.75|        1.2492456246228123|       2.854406196213425|\n",
      "|         197|2020-02-01 00:00:00|       green|   36114.84000000004|              1774.75|                  282.5|                    161.15|          1910.7399999999939|                   308.10000000000275|          40579.129999999815|                               19.25|         1.091254752851711|       8.781819029850755|\n",
      "|         186|2020-02-01 00:00:00|       green|  1189.1799999999998|                105.0|                    4.0|                       0.0|                       72.41|                   10.499999999999996|          1381.0900000000001|                                 0.0|                       1.0|       8.831428571428573|\n",
      "+------------+-------------------+------------+--------------------+---------------------+-----------------------+--------------------------+----------------------------+-------------------------------------+----------------------------+------------------------------------+--------------------------+------------------------+\n",
      "only showing top 20 rows\n",
      "\n"
     ]
    },
    {
     "name": "stderr",
     "output_type": "stream",
     "text": [
      "                                                                                \r"
     ]
    }
   ],
   "source": [
    "df_result.show()"
   ]
  },
  {
   "cell_type": "code",
   "execution_count": 18,
   "id": "f67eeb92",
   "metadata": {},
   "outputs": [
    {
     "name": "stderr",
     "output_type": "stream",
     "text": [
      "                                                                                \r"
     ]
    }
   ],
   "source": [
    "df_result.coalesce(1).write.parquet('data/report/revenue/', mode='overwrite')"
   ]
  },
  {
   "cell_type": "code",
   "execution_count": null,
   "id": "57b49a8d-5b02-402b-8b82-0fa424d275bc",
   "metadata": {},
   "outputs": [],
   "source": []
  },
  {
   "cell_type": "code",
   "execution_count": 33,
   "id": "5184d723-6c89-4f5b-98fc-b7672c1b3d20",
   "metadata": {},
   "outputs": [],
   "source": [
    "df_result.createOrReplaceTempView('trips_data_result')"
   ]
  },
  {
   "cell_type": "code",
   "execution_count": 29,
   "id": "db0dd808-9836-4565-8fb7-f28188b98b12",
   "metadata": {},
   "outputs": [
    {
     "name": "stderr",
     "output_type": "stream",
     "text": [
      "[Stage 20:===============================================>        (17 + 3) / 20]\r"
     ]
    },
    {
     "name": "stdout",
     "output_type": "stream",
     "text": [
      "+----------------------------+\n",
      "|count(DISTINCT revenue_zone)|\n",
      "+----------------------------+\n",
      "|                         263|\n",
      "+----------------------------+\n",
      "\n"
     ]
    },
    {
     "name": "stderr",
     "output_type": "stream",
     "text": [
      "                                                                                \r"
     ]
    }
   ],
   "source": [
    "df_result = spark.sql(\"\"\"\n",
    "SELECT \n",
    "   COUNT(DISTINCT revenue_zone)\n",
    "FROM\n",
    "    trips_data_result\n",
    "\"\"\").show()"
   ]
  }
 ],
 "metadata": {
  "kernelspec": {
   "display_name": "Python 3 (ipykernel)",
   "language": "python",
   "name": "python3"
  },
  "language_info": {
   "codemirror_mode": {
    "name": "ipython",
    "version": 3
   },
   "file_extension": ".py",
   "mimetype": "text/x-python",
   "name": "python",
   "nbconvert_exporter": "python",
   "pygments_lexer": "ipython3",
   "version": "3.9.13"
  }
 },
 "nbformat": 4,
 "nbformat_minor": 5
}
